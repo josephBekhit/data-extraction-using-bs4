{
 "cells": [
  {
   "cell_type": "markdown",
   "metadata": {},
   "source": [
    "i imported requests and BeautifulSoup libraries to get the needed data from the url"
   ]
  },
  {
   "cell_type": "code",
   "execution_count": 29,
   "metadata": {},
   "outputs": [],
   "source": [
    "import requests\n",
    "from bs4 import BeautifulSoup"
   ]
  },
  {
   "cell_type": "markdown",
   "metadata": {},
   "source": [
    "the url variable equals to the URL of the page that contains the table of the data that we need.\n",
    "i then used the get method and beuatifulsoup to get the content of the html page"
   ]
  },
  {
   "cell_type": "code",
   "execution_count": 30,
   "metadata": {},
   "outputs": [],
   "source": [
    "url=\"https://en.wikipedia.org/wiki/List_of_postal_codes_of_Canada:_M\"\n",
    "r=requests.get(url)\n",
    "html_content=r.text\n",
    "soup=BeautifulSoup(html_content,\"html.parser\")"
   ]
  },
  {
   "cell_type": "markdown",
   "metadata": {},
   "source": [
    "since the page contains more than one table and the table that i need is the only one that consists of 3 columns,\n",
    "so i used an if statement to be sure that i only take the data from the table with 3 columns which is the table i need and by this way i discarded the other tables in the page.i used a for loop to fill in the empty list called data with the data that i need to work on"
   ]
  },
  {
   "cell_type": "code",
   "execution_count": 31,
   "metadata": {},
   "outputs": [],
   "source": [
    "data=[]\n",
    "for tr in soup.find_all(\"tr\"):\n",
    "    tds=tr.find_all(\"td\")\n",
    "    if len(tds)==3:\n",
    "        if tds[1].text!=\"Not assigned\":\n",
    "            col1=(tds[0].text)\n",
    "            col2=(tds[1].text)\n",
    "            if tds[2].text[0:-1]!=\"Not assigned\":\n",
    "                col3=(tds[2].text[0:-1])\n",
    "            else:\n",
    "                col3=(tds[1].text)\n",
    "            data.append([col1,col2,col3])"
   ]
  },
  {
   "cell_type": "code",
   "execution_count": 32,
   "metadata": {
    "scrolled": true
   },
   "outputs": [
    {
     "name": "stdout",
     "output_type": "stream",
     "text": [
      "(103, 3)\n"
     ]
    }
   ],
   "source": [
    "i=0\n",
    "y=0\n",
    "while(i<len(data)-1):\n",
    "    y=i+1    \n",
    "    while(y<len(data)):\n",
    "        if data[i][0]==data[y][0]:\n",
    "            data[i][2]=data[i][2]+\",\"+data[y][2]            \n",
    "            data.pop(y)\n",
    "        else:\n",
    "            y=y+1            \n",
    "    i=i+1\n",
    "import pandas as pd\n",
    "df=pd.DataFrame(data,columns=[\"PostalCode\",\"Borough\",\"Neighborhood\"])\n",
    "print(df.shape)"
   ]
  },
  {
   "cell_type": "code",
   "execution_count": null,
   "metadata": {},
   "outputs": [],
   "source": []
  }
 ],
 "metadata": {
  "kernelspec": {
   "display_name": "Python 3",
   "language": "python",
   "name": "python3"
  },
  "language_info": {
   "codemirror_mode": {
    "name": "ipython",
    "version": 3
   },
   "file_extension": ".py",
   "mimetype": "text/x-python",
   "name": "python",
   "nbconvert_exporter": "python",
   "pygments_lexer": "ipython3",
   "version": "3.7.1"
  }
 },
 "nbformat": 4,
 "nbformat_minor": 2
}
